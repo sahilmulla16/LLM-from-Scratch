{
  "nbformat": 4,
  "nbformat_minor": 0,
  "metadata": {
    "colab": {
      "provenance": [],
      "toc_visible": true,
      "authorship_tag": "ABX9TyM0FiehCwF2C19g57JdX6j9",
      "include_colab_link": true
    },
    "kernelspec": {
      "name": "python3",
      "display_name": "Python 3"
    },
    "language_info": {
      "name": "python"
    }
  },
  "cells": [
    {
      "cell_type": "markdown",
      "metadata": {
        "id": "view-in-github",
        "colab_type": "text"
      },
      "source": [
        "<a href=\"https://colab.research.google.com/github/sahilmulla16/LLM-from-Scratch/blob/main/Tokenization.ipynb\" target=\"_parent\"><img src=\"https://colab.research.google.com/assets/colab-badge.svg\" alt=\"Open In Colab\"/></a>"
      ]
    },
    {
      "cell_type": "markdown",
      "source": [
        "# **Step 1: Creating Tokens**"
      ],
      "metadata": {
        "id": "kkoNKGgheSb1"
      }
    },
    {
      "cell_type": "code",
      "source": [
        "with open('/content/J. K. Rowling - Harry Potter 1 - Sorcerer\\'s Stone.txt', 'r' , encoding=\"utf-8\") as file:\n",
        "    raw_text = file.read()\n",
        "\n",
        "print(\"Total No of Characters\" , len(raw_text))\n",
        "print(raw_text[:50])"
      ],
      "metadata": {
        "colab": {
          "base_uri": "https://localhost:8080/"
        },
        "id": "YYtIoOtoedsB",
        "outputId": "0b24c1f2-a216-455b-98ed-9a01300308b4"
      },
      "execution_count": 56,
      "outputs": [
        {
          "output_type": "stream",
          "name": "stdout",
          "text": [
            "Total No of Characters 439742\n",
            "Harry Potter and the Sorcerer's Stone\n",
            "\n",
            "\n",
            "CHAPTER ON\n"
          ]
        }
      ]
    },
    {
      "cell_type": "code",
      "source": [
        "import re\n",
        "\n",
        "text = \"Hello. how are you doing! as of now?\"\n",
        "result = re.split(r'(\\s)', text)\n",
        "print(result)"
      ],
      "metadata": {
        "colab": {
          "base_uri": "https://localhost:8080/"
        },
        "id": "YJtUT4X6gRZo",
        "outputId": "3ac6aac6-dd5d-4589-e42d-b0fbc50b0c3e"
      },
      "execution_count": 19,
      "outputs": [
        {
          "output_type": "stream",
          "name": "stdout",
          "text": [
            "['Hello.', ' ', 'how', ' ', 'are', ' ', 'you', ' ', 'doing!', ' ', 'as', ' ', 'of', ' ', 'now?']\n"
          ]
        }
      ]
    },
    {
      "cell_type": "code",
      "source": [
        "result = re.split(r'([.,!?] |\\s)', text)\n",
        "print(result)"
      ],
      "metadata": {
        "colab": {
          "base_uri": "https://localhost:8080/"
        },
        "id": "a1Aeivirh3-k",
        "outputId": "15a8c30c-b92e-4e68-99d8-e29ff9f22823"
      },
      "execution_count": 33,
      "outputs": [
        {
          "output_type": "stream",
          "name": "stdout",
          "text": [
            "['Hello', '. ', 'how', ' ', 'are', ' ', 'you', ' ', 'doing', '! ', 'as', ' ', 'of', ' ', 'now?']\n"
          ]
        }
      ]
    },
    {
      "cell_type": "code",
      "source": [
        "result = [item for item in result if item.strip() ]\n",
        "print(result)"
      ],
      "metadata": {
        "colab": {
          "base_uri": "https://localhost:8080/"
        },
        "id": "sjdexUBMjg4S",
        "outputId": "73005202-e65b-4cfe-fa67-6ad2525a177c"
      },
      "execution_count": 35,
      "outputs": [
        {
          "output_type": "stream",
          "name": "stdout",
          "text": [
            "['Hello', '. ', 'how', 'are', 'you', 'doing', '! ', 'as', 'of', 'now?']\n"
          ]
        }
      ]
    },
    {
      "cell_type": "code",
      "source": [
        "text = \"Hello, how' are you doing! as-- of? now?\"\n",
        "\n",
        "result = re.split(r'([,!:?_;()\\']|--|\\s)', text)\n",
        "result = [item.strip() for item in result if item.strip()]\n",
        "print(result)\n"
      ],
      "metadata": {
        "colab": {
          "base_uri": "https://localhost:8080/"
        },
        "id": "lR-7pU3DwTf5",
        "outputId": "73ad2f48-0f0b-4b3a-ed6d-18ee899950f4"
      },
      "execution_count": 51,
      "outputs": [
        {
          "output_type": "stream",
          "name": "stdout",
          "text": [
            "['Hello', ',', 'how', \"'\", 'are', 'you', 'doing', '!', 'as', '--', 'of', '?', 'now', '?']\n"
          ]
        }
      ]
    },
    {
      "cell_type": "code",
      "source": [
        "preprocessed = re.split(r'([,!:?_;()\\']|--|\\s)', raw_text)\n",
        "preprocessed = [item.strip() for item in preprocessed if item.strip()]\n",
        "print(preprocessed[:100])"
      ],
      "metadata": {
        "colab": {
          "base_uri": "https://localhost:8080/"
        },
        "id": "Ieo8enznzTu9",
        "outputId": "4285f754-d1ce-4db6-a773-21a9924539be"
      },
      "execution_count": 54,
      "outputs": [
        {
          "output_type": "stream",
          "name": "stdout",
          "text": [
            "['Harry', 'Potter', 'and', 'the', 'Sorcerer', \"'\", 's', 'Stone', 'CHAPTER', 'ONE', 'THE', 'BOY', 'WHO', 'LIVED', 'Mr.', 'and', 'Mrs.', 'Dursley', ',', 'of', 'number', 'four', ',', 'Privet', 'Drive', ',', 'were', 'proud', 'to', 'say', 'that', 'they', 'were', 'perfectly', 'normal', ',', 'thank', 'you', 'very', 'much.', 'They', 'were', 'the', 'last', 'people', 'you', \"'\", 'd', 'expect', 'to', 'be', 'involved', 'in', 'anything', 'strange', 'or', 'mysterious', ',', 'because', 'they', 'just', 'didn', \"'\", 't', 'hold', 'with', 'such', 'nonsense.', 'Mr.', 'Dursley', 'was', 'the', 'director', 'of', 'a', 'firm', 'called', 'Grunnings', ',', 'which', 'made', 'drills.', 'He', 'was', 'a', 'big', ',', 'beefy', 'man', 'with', 'hardly', 'any', 'neck', ',', 'although', 'he', 'did', 'have', 'a', 'very']\n"
          ]
        }
      ]
    },
    {
      "cell_type": "code",
      "source": [
        "print(len(preprocessed))"
      ],
      "metadata": {
        "colab": {
          "base_uri": "https://localhost:8080/"
        },
        "id": "4w_kOq8Oz0fP",
        "outputId": "d859c6cc-2c90-499d-cdbd-dfc9964f7d31"
      },
      "execution_count": 55,
      "outputs": [
        {
          "output_type": "stream",
          "name": "stdout",
          "text": [
            "93107\n"
          ]
        }
      ]
    },
    {
      "cell_type": "markdown",
      "source": [
        "# **Step 2 : Creating Tokens IDs**\n",
        "\n",
        "> Add blockquote\n",
        "\n"
      ],
      "metadata": {
        "id": "1S6OnhpK0Yxz"
      }
    },
    {
      "cell_type": "code",
      "source": [
        "all_words = sorted(set(preprocessed))\n",
        "print(len(all_words))\n"
      ],
      "metadata": {
        "colab": {
          "base_uri": "https://localhost:8080/"
        },
        "id": "CuqsHAES0l0Y",
        "outputId": "34304275-a1c5-41d8-d690-6fe79c20a16b"
      },
      "execution_count": 57,
      "outputs": [
        {
          "output_type": "stream",
          "name": "stdout",
          "text": [
            "9056\n"
          ]
        }
      ]
    },
    {
      "cell_type": "code",
      "source": [
        "vocab = {token:integer for integer, token in enumerate(all_words)}\n"
      ],
      "metadata": {
        "id": "ApGhZ6q5_Fn7"
      },
      "execution_count": 58,
      "outputs": []
    },
    {
      "cell_type": "code",
      "source": [
        "for i , item in enumerate(vocab.items()):\n",
        "  print(item)\n",
        "  if i >= 50:\n",
        "    break"
      ],
      "metadata": {
        "colab": {
          "base_uri": "https://localhost:8080/"
        },
        "id": "XRK8yULG_XKO",
        "outputId": "e5cf4def-6a82-4088-9728-76bce3a8e139"
      },
      "execution_count": 64,
      "outputs": [
        {
          "output_type": "stream",
          "name": "stdout",
          "text": [
            "('!', 0)\n",
            "('\"', 1)\n",
            "('\"-', 2)\n",
            "('\"...', 3)\n",
            "('\"...for', 4)\n",
            "('\"0', 5)\n",
            "('\"A', 6)\n",
            "('\"AAAAAAAAAARGH', 7)\n",
            "('\"AAAARGH', 8)\n",
            "('\"ALL', 9)\n",
            "('\"ARE', 10)\n",
            "('\"Aaah', 11)\n",
            "('\"Aargh', 12)\n",
            "('\"Abbott', 13)\n",
            "('\"Abou', 14)\n",
            "('\"About', 15)\n",
            "('\"Absolutely', 16)\n",
            "('\"After', 17)\n",
            "('\"Ah', 18)\n",
            "('\"Aha', 19)\n",
            "('\"Ahem', 20)\n",
            "('\"Ahern', 21)\n",
            "('\"Alas', 22)\n",
            "('\"All', 23)\n",
            "('\"Always', 24)\n",
            "('\"Am', 25)\n",
            "('\"An', 26)\n",
            "('\"And', 27)\n",
            "('\"Another', 28)\n",
            "('\"Anyone', 29)\n",
            "('\"Anything', 30)\n",
            "('\"Anything.', 31)\n",
            "('\"Anyway', 32)\n",
            "('\"Are', 33)\n",
            "('\"Aren', 34)\n",
            "('\"As', 35)\n",
            "('\"Asked', 36)\n",
            "('\"At', 37)\n",
            "('\"Ate', 38)\n",
            "('\"B-b-but', 39)\n",
            "('\"B-but', 40)\n",
            "('\"Back', 41)\n",
            "('\"Bad', 42)\n",
            "('\"Barking', 43)\n",
            "('\"Be', 44)\n",
            "('\"Because', 45)\n",
            "('\"Best', 46)\n",
            "('\"Bet', 47)\n",
            "('\"Better', 48)\n",
            "('\"Bin', 49)\n",
            "('\"Blasted', 50)\n"
          ]
        }
      ]
    },
    {
      "cell_type": "code",
      "source": [
        "class Simpletokenizer:\n",
        "  def __init__(self , vocab):\n",
        "    self.str_to_int = vocab\n",
        "    self.int_to_str = {i:s for s in vocab.items}\n",
        "\n",
        "  def encode(self , text):\n",
        "    preprocessed = re.split(r'([.,?!():\";\\']|--|\\s)' , text)\n",
        "\n",
        "    preprocessed = [\n",
        "        item.strip() for item in preprocessed if item.strip()\n",
        "    ]\n",
        "    ids = [self.str_to_int[s] for s in preprocessed]\n",
        "    return ids\n",
        "\n",
        "\n",
        "  def decode(self , ids):\n",
        "    text = \" \".join([self.int_to_str[i] for i in ids])\n",
        "    # replace spaces before the specified punctuation\n",
        "    text = re.sub(r'\\s+([.,!?()\"\\'])', r'\\1', text)\n",
        "    return text\n"
      ],
      "metadata": {
        "id": "rheR3cjp_7p1"
      },
      "execution_count": 99,
      "outputs": []
    },
    {
      "cell_type": "markdown",
      "source": [
        "Testing the tokenizer\n"
      ],
      "metadata": {
        "id": "al1_3_KFLs2Z"
      }
    },
    {
      "cell_type": "code",
      "source": [
        "tokenizer = Simpletokenizer(vocab)\n",
        "\n",
        "text = \"\"\"  was the director of a firm called Grunnings, which made\n",
        "            drills. He was a big, beefy man with hardly any neck, although he did\n",
        "            have a very large mustache.\"\"\"\n",
        "\n",
        "ids = tokenizer.encode(text)\n",
        "print(ids)\n"
      ],
      "metadata": {
        "colab": {
          "base_uri": "https://localhost:8080/"
        },
        "id": "pDJeX6pfL0LW",
        "outputId": "5df9cd65-2065-4d36-878b-803755667022"
      },
      "execution_count": 109,
      "outputs": [
        {
          "output_type": "stream",
          "name": "stdout",
          "text": [
            "[8699, 8105, 3554, 6000, 1994, 4137, 2825, 1108, 579, 8798, 5538, 3697, 602, 1157, 8699, 1994, 2495, 579, 2428, 5556, 8897, 4733, 2168, 5863, 579, 2112, 4760, 3518, 4751, 1994, 8607, 5275, 5810, 602]\n"
          ]
        }
      ]
    },
    {
      "cell_type": "code",
      "source": [
        "tokenizer.decode(ids)"
      ],
      "metadata": {
        "colab": {
          "base_uri": "https://localhost:8080/",
          "height": 53
        },
        "id": "juYcC1U6PD_p",
        "outputId": "10b50d42-bbb7-494d-dbf4-c82f0c8776d5"
      },
      "execution_count": 110,
      "outputs": [
        {
          "output_type": "execute_result",
          "data": {
            "text/plain": [
              "'was the director of a firm called Grunnings, which made drills. He was a big, beefy man with hardly any neck, although he did have a very large mustache.'"
            ],
            "application/vnd.google.colaboratory.intrinsic+json": {
              "type": "string"
            }
          },
          "metadata": {},
          "execution_count": 110
        }
      ]
    },
    {
      "cell_type": "code",
      "source": [
        "tokenizer.encode(text)"
      ],
      "metadata": {
        "colab": {
          "base_uri": "https://localhost:8080/"
        },
        "id": "wJI_z8C2QOPA",
        "outputId": "17d4d81d-0716-4452-c1ff-11484be8b730"
      },
      "execution_count": 111,
      "outputs": [
        {
          "output_type": "execute_result",
          "data": {
            "text/plain": [
              "[8699,\n",
              " 8105,\n",
              " 3554,\n",
              " 6000,\n",
              " 1994,\n",
              " 4137,\n",
              " 2825,\n",
              " 1108,\n",
              " 579,\n",
              " 8798,\n",
              " 5538,\n",
              " 3697,\n",
              " 602,\n",
              " 1157,\n",
              " 8699,\n",
              " 1994,\n",
              " 2495,\n",
              " 579,\n",
              " 2428,\n",
              " 5556,\n",
              " 8897,\n",
              " 4733,\n",
              " 2168,\n",
              " 5863,\n",
              " 579,\n",
              " 2112,\n",
              " 4760,\n",
              " 3518,\n",
              " 4751,\n",
              " 1994,\n",
              " 8607,\n",
              " 5275,\n",
              " 5810,\n",
              " 602]"
            ]
          },
          "metadata": {},
          "execution_count": 111
        }
      ]
    }
  ]
}